{
 "cells": [
  {
   "cell_type": "markdown",
   "metadata": {},
   "source": [
    "# Days 51-53 期中考"
   ]
  },
  {
   "cell_type": "code",
   "execution_count": 1,
   "metadata": {},
   "outputs": [
    {
     "data": {
      "text/html": [
       "<div>\n",
       "<style scoped>\n",
       "    .dataframe tbody tr th:only-of-type {\n",
       "        vertical-align: middle;\n",
       "    }\n",
       "\n",
       "    .dataframe tbody tr th {\n",
       "        vertical-align: top;\n",
       "    }\n",
       "\n",
       "    .dataframe thead th {\n",
       "        text-align: right;\n",
       "    }\n",
       "</style>\n",
       "<table border=\"1\" class=\"dataframe\">\n",
       "  <thead>\n",
       "    <tr style=\"text-align: right;\">\n",
       "      <th></th>\n",
       "      <th>name</th>\n",
       "      <th>bonus</th>\n",
       "      <th>deferral_payments</th>\n",
       "      <th>deferred_income</th>\n",
       "      <th>director_fees</th>\n",
       "      <th>email_address</th>\n",
       "      <th>exercised_stock_options</th>\n",
       "      <th>expenses</th>\n",
       "      <th>from_messages</th>\n",
       "      <th>from_poi_to_this_person</th>\n",
       "      <th>...</th>\n",
       "      <th>long_term_incentive</th>\n",
       "      <th>other</th>\n",
       "      <th>poi</th>\n",
       "      <th>restricted_stock</th>\n",
       "      <th>restricted_stock_deferred</th>\n",
       "      <th>salary</th>\n",
       "      <th>shared_receipt_with_poi</th>\n",
       "      <th>to_messages</th>\n",
       "      <th>total_payments</th>\n",
       "      <th>total_stock_value</th>\n",
       "    </tr>\n",
       "  </thead>\n",
       "  <tbody>\n",
       "    <tr>\n",
       "      <th>0</th>\n",
       "      <td>RICE KENNETH D</td>\n",
       "      <td>1750000.0</td>\n",
       "      <td>NaN</td>\n",
       "      <td>-3504386.0</td>\n",
       "      <td>NaN</td>\n",
       "      <td>ken.rice@enron.com</td>\n",
       "      <td>19794175.0</td>\n",
       "      <td>46950.0</td>\n",
       "      <td>18.0</td>\n",
       "      <td>42.0</td>\n",
       "      <td>...</td>\n",
       "      <td>1617011.0</td>\n",
       "      <td>174839.0</td>\n",
       "      <td>True</td>\n",
       "      <td>2748364.0</td>\n",
       "      <td>NaN</td>\n",
       "      <td>420636.0</td>\n",
       "      <td>864.0</td>\n",
       "      <td>905.0</td>\n",
       "      <td>505050.0</td>\n",
       "      <td>22542539.0</td>\n",
       "    </tr>\n",
       "    <tr>\n",
       "      <th>1</th>\n",
       "      <td>SKILLING JEFFREY K</td>\n",
       "      <td>5600000.0</td>\n",
       "      <td>NaN</td>\n",
       "      <td>NaN</td>\n",
       "      <td>NaN</td>\n",
       "      <td>jeff.skilling@enron.com</td>\n",
       "      <td>19250000.0</td>\n",
       "      <td>29336.0</td>\n",
       "      <td>108.0</td>\n",
       "      <td>88.0</td>\n",
       "      <td>...</td>\n",
       "      <td>1920000.0</td>\n",
       "      <td>22122.0</td>\n",
       "      <td>True</td>\n",
       "      <td>6843672.0</td>\n",
       "      <td>NaN</td>\n",
       "      <td>1111258.0</td>\n",
       "      <td>2042.0</td>\n",
       "      <td>3627.0</td>\n",
       "      <td>8682716.0</td>\n",
       "      <td>26093672.0</td>\n",
       "    </tr>\n",
       "    <tr>\n",
       "      <th>2</th>\n",
       "      <td>SHELBY REX</td>\n",
       "      <td>200000.0</td>\n",
       "      <td>NaN</td>\n",
       "      <td>-4167.0</td>\n",
       "      <td>NaN</td>\n",
       "      <td>rex.shelby@enron.com</td>\n",
       "      <td>1624396.0</td>\n",
       "      <td>22884.0</td>\n",
       "      <td>39.0</td>\n",
       "      <td>13.0</td>\n",
       "      <td>...</td>\n",
       "      <td>NaN</td>\n",
       "      <td>1573324.0</td>\n",
       "      <td>True</td>\n",
       "      <td>869220.0</td>\n",
       "      <td>NaN</td>\n",
       "      <td>211844.0</td>\n",
       "      <td>91.0</td>\n",
       "      <td>225.0</td>\n",
       "      <td>2003885.0</td>\n",
       "      <td>2493616.0</td>\n",
       "    </tr>\n",
       "  </tbody>\n",
       "</table>\n",
       "<p>3 rows × 22 columns</p>\n",
       "</div>"
      ],
      "text/plain": [
       "                 name      bonus  deferral_payments  deferred_income  \\\n",
       "0      RICE KENNETH D  1750000.0                NaN       -3504386.0   \n",
       "1  SKILLING JEFFREY K  5600000.0                NaN              NaN   \n",
       "2          SHELBY REX   200000.0                NaN          -4167.0   \n",
       "\n",
       "   director_fees            email_address  exercised_stock_options  expenses  \\\n",
       "0            NaN       ken.rice@enron.com               19794175.0   46950.0   \n",
       "1            NaN  jeff.skilling@enron.com               19250000.0   29336.0   \n",
       "2            NaN     rex.shelby@enron.com                1624396.0   22884.0   \n",
       "\n",
       "   from_messages  from_poi_to_this_person  ...  long_term_incentive  \\\n",
       "0           18.0                     42.0  ...            1617011.0   \n",
       "1          108.0                     88.0  ...            1920000.0   \n",
       "2           39.0                     13.0  ...                  NaN   \n",
       "\n",
       "       other   poi  restricted_stock  restricted_stock_deferred     salary  \\\n",
       "0   174839.0  True         2748364.0                        NaN   420636.0   \n",
       "1    22122.0  True         6843672.0                        NaN  1111258.0   \n",
       "2  1573324.0  True          869220.0                        NaN   211844.0   \n",
       "\n",
       "   shared_receipt_with_poi  to_messages  total_payments  total_stock_value  \n",
       "0                    864.0        905.0        505050.0         22542539.0  \n",
       "1                   2042.0       3627.0       8682716.0         26093672.0  \n",
       "2                     91.0        225.0       2003885.0          2493616.0  \n",
       "\n",
       "[3 rows x 22 columns]"
      ]
     },
     "execution_count": 1,
     "metadata": {},
     "output_type": "execute_result"
    }
   ],
   "source": [
    "from xgboost.sklearn import XGBClassifier\n",
    "from sklearn.model_selection import train_test_split, GridSearchCV, cross_val_score\n",
    "from sklearn.ensemble import RandomForestRegressor\n",
    "from sklearn.metrics import auc\n",
    "\n",
    "import pandas as pd\n",
    "import seaborn as sns\n",
    "import numpy as np\n",
    "\n",
    "train = pd.read_csv('./data/train.csv')\n",
    "test = pd.read_csv('./data/test.csv')\n",
    "train.head(3)"
   ]
  },
  {
   "cell_type": "code",
   "execution_count": 2,
   "metadata": {},
   "outputs": [
    {
     "data": {
      "text/html": [
       "<div>\n",
       "<style scoped>\n",
       "    .dataframe tbody tr th:only-of-type {\n",
       "        vertical-align: middle;\n",
       "    }\n",
       "\n",
       "    .dataframe tbody tr th {\n",
       "        vertical-align: top;\n",
       "    }\n",
       "\n",
       "    .dataframe thead th {\n",
       "        text-align: right;\n",
       "    }\n",
       "</style>\n",
       "<table border=\"1\" class=\"dataframe\">\n",
       "  <thead>\n",
       "    <tr style=\"text-align: right;\">\n",
       "      <th></th>\n",
       "      <th>bonus</th>\n",
       "      <th>deferral_payments</th>\n",
       "      <th>deferred_income</th>\n",
       "      <th>director_fees</th>\n",
       "      <th>exercised_stock_options</th>\n",
       "      <th>expenses</th>\n",
       "      <th>from_messages</th>\n",
       "      <th>from_poi_to_this_person</th>\n",
       "      <th>from_this_person_to_poi</th>\n",
       "      <th>loan_advances</th>\n",
       "      <th>long_term_incentive</th>\n",
       "      <th>other</th>\n",
       "      <th>restricted_stock</th>\n",
       "      <th>restricted_stock_deferred</th>\n",
       "      <th>salary</th>\n",
       "      <th>shared_receipt_with_poi</th>\n",
       "      <th>to_messages</th>\n",
       "      <th>total_payments</th>\n",
       "      <th>total_stock_value</th>\n",
       "    </tr>\n",
       "  </thead>\n",
       "  <tbody>\n",
       "    <tr>\n",
       "      <th>count</th>\n",
       "      <td>6.100000e+01</td>\n",
       "      <td>2.800000e+01</td>\n",
       "      <td>3.400000e+01</td>\n",
       "      <td>13.000000</td>\n",
       "      <td>8.100000e+01</td>\n",
       "      <td>73.000000</td>\n",
       "      <td>65.000000</td>\n",
       "      <td>65.000000</td>\n",
       "      <td>65.000000</td>\n",
       "      <td>2.000000e+00</td>\n",
       "      <td>4.900000e+01</td>\n",
       "      <td>6.900000e+01</td>\n",
       "      <td>8.200000e+01</td>\n",
       "      <td>10.000000</td>\n",
       "      <td>7.300000e+01</td>\n",
       "      <td>65.000000</td>\n",
       "      <td>65.000000</td>\n",
       "      <td>9.600000e+01</td>\n",
       "      <td>9.800000e+01</td>\n",
       "    </tr>\n",
       "    <tr>\n",
       "      <th>mean</th>\n",
       "      <td>1.147436e+06</td>\n",
       "      <td>6.344374e+05</td>\n",
       "      <td>-4.625664e+05</td>\n",
       "      <td>89397.846154</td>\n",
       "      <td>2.985081e+06</td>\n",
       "      <td>51040.547945</td>\n",
       "      <td>711.323077</td>\n",
       "      <td>64.800000</td>\n",
       "      <td>40.092308</td>\n",
       "      <td>4.096250e+07</td>\n",
       "      <td>7.926171e+05</td>\n",
       "      <td>4.471774e+05</td>\n",
       "      <td>1.294855e+06</td>\n",
       "      <td>-221885.700000</td>\n",
       "      <td>2.739025e+05</td>\n",
       "      <td>1111.369231</td>\n",
       "      <td>2156.061538</td>\n",
       "      <td>2.590977e+06</td>\n",
       "      <td>3.527136e+06</td>\n",
       "    </tr>\n",
       "    <tr>\n",
       "      <th>std</th>\n",
       "      <td>1.505189e+06</td>\n",
       "      <td>8.603646e+05</td>\n",
       "      <td>8.095392e+05</td>\n",
       "      <td>41143.391399</td>\n",
       "      <td>6.004174e+06</td>\n",
       "      <td>47596.682104</td>\n",
       "      <td>2074.497628</td>\n",
       "      <td>91.863214</td>\n",
       "      <td>88.901407</td>\n",
       "      <td>5.736404e+07</td>\n",
       "      <td>9.504645e+05</td>\n",
       "      <td>1.341564e+06</td>\n",
       "      <td>2.498335e+06</td>\n",
       "      <td>205191.374121</td>\n",
       "      <td>1.716647e+05</td>\n",
       "      <td>1165.852016</td>\n",
       "      <td>2811.676718</td>\n",
       "      <td>1.056645e+07</td>\n",
       "      <td>7.182997e+06</td>\n",
       "    </tr>\n",
       "    <tr>\n",
       "      <th>min</th>\n",
       "      <td>7.000000e+04</td>\n",
       "      <td>-1.025000e+05</td>\n",
       "      <td>-3.504386e+06</td>\n",
       "      <td>3285.000000</td>\n",
       "      <td>3.285000e+03</td>\n",
       "      <td>148.000000</td>\n",
       "      <td>12.000000</td>\n",
       "      <td>0.000000</td>\n",
       "      <td>0.000000</td>\n",
       "      <td>4.000000e+05</td>\n",
       "      <td>7.102300e+04</td>\n",
       "      <td>2.000000e+00</td>\n",
       "      <td>4.409300e+04</td>\n",
       "      <td>-560222.000000</td>\n",
       "      <td>4.770000e+02</td>\n",
       "      <td>2.000000</td>\n",
       "      <td>57.000000</td>\n",
       "      <td>1.480000e+02</td>\n",
       "      <td>-4.409300e+04</td>\n",
       "    </tr>\n",
       "    <tr>\n",
       "      <th>25%</th>\n",
       "      <td>4.500000e+05</td>\n",
       "      <td>7.656750e+04</td>\n",
       "      <td>-5.527032e+05</td>\n",
       "      <td>101250.000000</td>\n",
       "      <td>4.004780e+05</td>\n",
       "      <td>18834.000000</td>\n",
       "      <td>19.000000</td>\n",
       "      <td>10.000000</td>\n",
       "      <td>0.000000</td>\n",
       "      <td>2.068125e+07</td>\n",
       "      <td>2.750000e+05</td>\n",
       "      <td>9.720000e+02</td>\n",
       "      <td>2.689220e+05</td>\n",
       "      <td>-389621.750000</td>\n",
       "      <td>2.061210e+05</td>\n",
       "      <td>178.000000</td>\n",
       "      <td>517.000000</td>\n",
       "      <td>3.024025e+05</td>\n",
       "      <td>4.211518e+05</td>\n",
       "    </tr>\n",
       "    <tr>\n",
       "      <th>50%</th>\n",
       "      <td>7.500000e+05</td>\n",
       "      <td>1.951900e+05</td>\n",
       "      <td>-1.175340e+05</td>\n",
       "      <td>108579.000000</td>\n",
       "      <td>8.500100e+05</td>\n",
       "      <td>41953.000000</td>\n",
       "      <td>45.000000</td>\n",
       "      <td>28.000000</td>\n",
       "      <td>7.000000</td>\n",
       "      <td>4.096250e+07</td>\n",
       "      <td>4.221580e+05</td>\n",
       "      <td>5.238200e+04</td>\n",
       "      <td>4.628225e+05</td>\n",
       "      <td>-139856.500000</td>\n",
       "      <td>2.516540e+05</td>\n",
       "      <td>599.000000</td>\n",
       "      <td>1088.000000</td>\n",
       "      <td>1.106740e+06</td>\n",
       "      <td>9.979710e+05</td>\n",
       "    </tr>\n",
       "    <tr>\n",
       "      <th>75%</th>\n",
       "      <td>1.000000e+06</td>\n",
       "      <td>8.342052e+05</td>\n",
       "      <td>-2.708325e+04</td>\n",
       "      <td>112492.000000</td>\n",
       "      <td>2.165172e+06</td>\n",
       "      <td>59175.000000</td>\n",
       "      <td>215.000000</td>\n",
       "      <td>88.000000</td>\n",
       "      <td>27.000000</td>\n",
       "      <td>6.124375e+07</td>\n",
       "      <td>8.318090e+05</td>\n",
       "      <td>3.620960e+05</td>\n",
       "      <td>9.664905e+05</td>\n",
       "      <td>-77953.250000</td>\n",
       "      <td>2.885890e+05</td>\n",
       "      <td>1902.000000</td>\n",
       "      <td>2649.000000</td>\n",
       "      <td>1.985668e+06</td>\n",
       "      <td>2.493616e+06</td>\n",
       "    </tr>\n",
       "    <tr>\n",
       "      <th>max</th>\n",
       "      <td>8.000000e+06</td>\n",
       "      <td>2.964506e+06</td>\n",
       "      <td>-1.042000e+03</td>\n",
       "      <td>125034.000000</td>\n",
       "      <td>3.434838e+07</td>\n",
       "      <td>228763.000000</td>\n",
       "      <td>14368.000000</td>\n",
       "      <td>528.000000</td>\n",
       "      <td>411.000000</td>\n",
       "      <td>8.152500e+07</td>\n",
       "      <td>5.145434e+06</td>\n",
       "      <td>1.035973e+07</td>\n",
       "      <td>1.476169e+07</td>\n",
       "      <td>44093.000000</td>\n",
       "      <td>1.111258e+06</td>\n",
       "      <td>4527.000000</td>\n",
       "      <td>15149.000000</td>\n",
       "      <td>1.035598e+08</td>\n",
       "      <td>4.911008e+07</td>\n",
       "    </tr>\n",
       "  </tbody>\n",
       "</table>\n",
       "</div>"
      ],
      "text/plain": [
       "              bonus  deferral_payments  deferred_income  director_fees  \\\n",
       "count  6.100000e+01       2.800000e+01     3.400000e+01      13.000000   \n",
       "mean   1.147436e+06       6.344374e+05    -4.625664e+05   89397.846154   \n",
       "std    1.505189e+06       8.603646e+05     8.095392e+05   41143.391399   \n",
       "min    7.000000e+04      -1.025000e+05    -3.504386e+06    3285.000000   \n",
       "25%    4.500000e+05       7.656750e+04    -5.527032e+05  101250.000000   \n",
       "50%    7.500000e+05       1.951900e+05    -1.175340e+05  108579.000000   \n",
       "75%    1.000000e+06       8.342052e+05    -2.708325e+04  112492.000000   \n",
       "max    8.000000e+06       2.964506e+06    -1.042000e+03  125034.000000   \n",
       "\n",
       "       exercised_stock_options       expenses  from_messages  \\\n",
       "count             8.100000e+01      73.000000      65.000000   \n",
       "mean              2.985081e+06   51040.547945     711.323077   \n",
       "std               6.004174e+06   47596.682104    2074.497628   \n",
       "min               3.285000e+03     148.000000      12.000000   \n",
       "25%               4.004780e+05   18834.000000      19.000000   \n",
       "50%               8.500100e+05   41953.000000      45.000000   \n",
       "75%               2.165172e+06   59175.000000     215.000000   \n",
       "max               3.434838e+07  228763.000000   14368.000000   \n",
       "\n",
       "       from_poi_to_this_person  from_this_person_to_poi  loan_advances  \\\n",
       "count                65.000000                65.000000   2.000000e+00   \n",
       "mean                 64.800000                40.092308   4.096250e+07   \n",
       "std                  91.863214                88.901407   5.736404e+07   \n",
       "min                   0.000000                 0.000000   4.000000e+05   \n",
       "25%                  10.000000                 0.000000   2.068125e+07   \n",
       "50%                  28.000000                 7.000000   4.096250e+07   \n",
       "75%                  88.000000                27.000000   6.124375e+07   \n",
       "max                 528.000000               411.000000   8.152500e+07   \n",
       "\n",
       "       long_term_incentive         other  restricted_stock  \\\n",
       "count         4.900000e+01  6.900000e+01      8.200000e+01   \n",
       "mean          7.926171e+05  4.471774e+05      1.294855e+06   \n",
       "std           9.504645e+05  1.341564e+06      2.498335e+06   \n",
       "min           7.102300e+04  2.000000e+00      4.409300e+04   \n",
       "25%           2.750000e+05  9.720000e+02      2.689220e+05   \n",
       "50%           4.221580e+05  5.238200e+04      4.628225e+05   \n",
       "75%           8.318090e+05  3.620960e+05      9.664905e+05   \n",
       "max           5.145434e+06  1.035973e+07      1.476169e+07   \n",
       "\n",
       "       restricted_stock_deferred        salary  shared_receipt_with_poi  \\\n",
       "count                  10.000000  7.300000e+01                65.000000   \n",
       "mean              -221885.700000  2.739025e+05              1111.369231   \n",
       "std                205191.374121  1.716647e+05              1165.852016   \n",
       "min               -560222.000000  4.770000e+02                 2.000000   \n",
       "25%               -389621.750000  2.061210e+05               178.000000   \n",
       "50%               -139856.500000  2.516540e+05               599.000000   \n",
       "75%                -77953.250000  2.885890e+05              1902.000000   \n",
       "max                 44093.000000  1.111258e+06              4527.000000   \n",
       "\n",
       "        to_messages  total_payments  total_stock_value  \n",
       "count     65.000000    9.600000e+01       9.800000e+01  \n",
       "mean    2156.061538    2.590977e+06       3.527136e+06  \n",
       "std     2811.676718    1.056645e+07       7.182997e+06  \n",
       "min       57.000000    1.480000e+02      -4.409300e+04  \n",
       "25%      517.000000    3.024025e+05       4.211518e+05  \n",
       "50%     1088.000000    1.106740e+06       9.979710e+05  \n",
       "75%     2649.000000    1.985668e+06       2.493616e+06  \n",
       "max    15149.000000    1.035598e+08       4.911008e+07  "
      ]
     },
     "execution_count": 2,
     "metadata": {},
     "output_type": "execute_result"
    }
   ],
   "source": [
    "train.describe()"
   ]
  },
  {
   "cell_type": "code",
   "execution_count": 3,
   "metadata": {},
   "outputs": [
    {
     "data": {
      "text/plain": [
       "((113, 22), (33, 21))"
      ]
     },
     "execution_count": 3,
     "metadata": {},
     "output_type": "execute_result"
    }
   ],
   "source": [
    "train.shape, test.shape"
   ]
  },
  {
   "cell_type": "code",
   "execution_count": 4,
   "metadata": {},
   "outputs": [
    {
     "name": "stderr",
     "output_type": "stream",
     "text": [
      "C:\\Users\\christine\\Anaconda3\\lib\\site-packages\\ipykernel_launcher.py:1: FutureWarning: Sorting because non-concatenation axis is not aligned. A future version\n",
      "of pandas will change to not sort by default.\n",
      "\n",
      "To accept the future behavior, pass 'sort=False'.\n",
      "\n",
      "To retain the current behavior and silence the warning, pass 'sort=True'.\n",
      "\n",
      "  \"\"\"Entry point for launching an IPython kernel.\n"
     ]
    }
   ],
   "source": [
    "df = pd.concat([train, test], join='outer', ignore_index=True)"
   ]
  },
  {
   "cell_type": "markdown",
   "metadata": {},
   "source": [
    "## 處理不必要的 features"
   ]
  },
  {
   "cell_type": "code",
   "execution_count": 5,
   "metadata": {
    "cell_style": "split"
   },
   "outputs": [
    {
     "data": {
      "text/plain": [
       "bonus                         64\n",
       "deferral_payments            107\n",
       "deferred_income               97\n",
       "director_fees                129\n",
       "email_address                 35\n",
       "exercised_stock_options       44\n",
       "expenses                      51\n",
       "from_messages                 60\n",
       "from_poi_to_this_person       60\n",
       "from_this_person_to_poi       60\n",
       "loan_advances                142\n",
       "long_term_incentive           80\n",
       "name                           0\n",
       "other                         53\n",
       "poi                           33\n",
       "restricted_stock              36\n",
       "restricted_stock_deferred    128\n",
       "salary                        51\n",
       "shared_receipt_with_poi       60\n",
       "to_messages                   60\n",
       "total_payments                21\n",
       "total_stock_value             20\n",
       "dtype: int64"
      ]
     },
     "execution_count": 5,
     "metadata": {},
     "output_type": "execute_result"
    }
   ],
   "source": [
    "df.isnull().sum()"
   ]
  },
  {
   "cell_type": "code",
   "execution_count": 6,
   "metadata": {
    "cell_style": "split"
   },
   "outputs": [
    {
     "name": "stdout",
     "output_type": "stream",
     "text": [
      "Delete 7 features\n"
     ]
    }
   ],
   "source": [
    "df = df.drop(['name'], axis=1)\n",
    "df = df.drop(['email_address'], axis=1)\n",
    "count = 2\n",
    "for i in df.columns[df.isnull().sum() > 90]:\n",
    "    df = df.drop([i], axis=1)\n",
    "    count += 1\n",
    "print('Delete {} features'.format(count))"
   ]
  },
  {
   "cell_type": "code",
   "execution_count": 7,
   "metadata": {
    "cell_style": "center"
   },
   "outputs": [
    {
     "data": {
      "text/plain": [
       "<matplotlib.axes._subplots.AxesSubplot at 0x242590e5b08>"
      ]
     },
     "execution_count": 7,
     "metadata": {},
     "output_type": "execute_result"
    },
    {
     "data": {
      "image/png": "[encoded data removed]",
      "text/plain": [
       "<Figure size 432x288 with 2 Axes>"
      ]
     },
     "metadata": {
      "needs_background": "light"
     },
     "output_type": "display_data"
    }
   ],
   "source": [
    "sns.heatmap(df.corr())"
   ]
  },
  {
   "cell_type": "code",
   "execution_count": 8,
   "metadata": {},
   "outputs": [],
   "source": [
    "df['poi'] = df['poi'].astype(float)"
   ]
  },
  {
   "cell_type": "code",
   "execution_count": 9,
   "metadata": {
    "cell_style": "split"
   },
   "outputs": [
    {
     "data": {
      "text/plain": [
       "from_messages             -0.126760\n",
       "from_this_person_to_poi   -0.096864\n",
       "to_messages               -0.023047\n",
       "shared_receipt_with_poi    0.120467\n",
       "from_poi_to_this_person    0.127932\n",
       "expenses                   0.136386\n",
       "other                      0.225619\n",
       "long_term_incentive        0.227805\n",
       "bonus                      0.242170\n",
       "restricted_stock           0.261102\n",
       "total_payments             0.271335\n",
       "salary                     0.371917\n",
       "total_stock_value          0.443098\n",
       "exercised_stock_options    0.591972\n",
       "poi                        1.000000\n",
       "Name: poi, dtype: float64"
      ]
     },
     "execution_count": 9,
     "metadata": {},
     "output_type": "execute_result"
    }
   ],
   "source": [
    "df[df['poi'].notnull()].corr()['poi'].sort_values()"
   ]
  },
  {
   "cell_type": "code",
   "execution_count": 10,
   "metadata": {
    "cell_style": "split"
   },
   "outputs": [
    {
     "name": "stdout",
     "output_type": "stream",
     "text": [
      "Delete 6 features\n"
     ]
    }
   ],
   "source": [
    "count = 0\n",
    "drop_features = df.columns[abs(df[df['poi'].notnull()].corr()['poi']) < .2]\n",
    "for i in drop_features:\n",
    "    df = df.drop([i], axis=1)\n",
    "    count += 1\n",
    "print('Delete {} features'.format(count))"
   ]
  },
  {
   "cell_type": "code",
   "execution_count": 11,
   "metadata": {},
   "outputs": [],
   "source": [
    "class RandomForestImputer():\n",
    "    def __init__(self, df, feature, threshold):\n",
    "        self.feature = feature\n",
    "        self.model = RandomForestRegressor()\n",
    "        self.predict_feature = list(df.columns[abs(df.corr()[self.feature]) > threshold])\n",
    "        if 'poi' in self.predict_feature:\n",
    "            self.predict_feature.remove('poi')\n",
    "        df1 = df[self.predict_feature].dropna(axis=0)\n",
    "        \n",
    "        self.model.fit(df1.drop([self.feature], axis=1), df1[self.feature])\n",
    "        print('Score:', self.model.score(df1.drop([self.feature], axis=1), df1[self.feature]))\n",
    "    def predict(self, df):\n",
    "        def feature_fillna(row):\n",
    "            if np.isnan(row[self.feature]):\n",
    "                row[self.feature] = self.model.predict([row[self.predict_feature].drop(labels=[self.feature]).fillna(0)])\n",
    "            return row\n",
    "        print('Impute {} data'.format(df[self.feature].isnull().sum()))\n",
    "        return df.apply(feature_fillna, axis=1)"
   ]
  },
  {
   "cell_type": "markdown",
   "metadata": {},
   "source": [
    "## 處理特殊人物"
   ]
  },
  {
   "cell_type": "code",
   "execution_count": 12,
   "metadata": {
    "cell_style": "split"
   },
   "outputs": [
    {
     "name": "stdout",
     "output_type": "stream",
     "text": [
      "0 1\n",
      "33 3\n",
      "1 5\n",
      "133 8\n",
      "5 2\n",
      "71 1\n",
      "8 8\n",
      "42 2\n",
      "139 1\n",
      "78 2\n",
      "110 1\n",
      "48 1\n",
      "113 1\n",
      "119 3\n",
      "58 1\n"
     ]
    }
   ],
   "source": [
    "l = []\n",
    "cols = list(df.columns)\n",
    "cols.remove('poi')\n",
    "\n",
    "for i in cols:\n",
    "    l += list(df.sort_values(i, ascending=False).head(5).index)\n",
    "for i in set(l):\n",
    "    print(i, l.count(i))"
   ]
  },
  {
   "cell_type": "code",
   "execution_count": 13,
   "metadata": {
    "cell_style": "split",
    "scrolled": true
   },
   "outputs": [],
   "source": [
    "l = pd.Series(list(set(l)))\n",
    "special_people_train = df.loc[l[l < 112]]\n",
    "special_people_test = df.loc[l[l > 112]]\n",
    "df = df.drop(l)"
   ]
  },
  {
   "cell_type": "code",
   "execution_count": 14,
   "metadata": {},
   "outputs": [
    {
     "data": {
      "text/plain": [
       "<matplotlib.axes._subplots.AxesSubplot at 0x242594c2b08>"
      ]
     },
     "execution_count": 14,
     "metadata": {},
     "output_type": "execute_result"
    },
    {
     "data": {
      "image/png": "[encoded data removed]",
      "text/plain": [
       "<Figure size 432x288 with 1 Axes>"
      ]
     },
     "metadata": {
      "needs_background": "light"
     },
     "output_type": "display_data"
    }
   ],
   "source": [
    "df.plot(kind='box')"
   ]
  },
  {
   "cell_type": "markdown",
   "metadata": {},
   "source": [
    "## 處理離群值與缺失值"
   ]
  },
  {
   "cell_type": "markdown",
   "metadata": {},
   "source": [
    "### 處理 bonus"
   ]
  },
  {
   "cell_type": "code",
   "execution_count": 15,
   "metadata": {
    "cell_style": "center"
   },
   "outputs": [
    {
     "data": {
      "text/plain": [
       "poi                       -0.006915\n",
       "other                      0.035927\n",
       "exercised_stock_options    0.038327\n",
       "total_stock_value          0.147494\n",
       "restricted_stock           0.223406\n",
       "long_term_incentive        0.302887\n",
       "salary                     0.388836\n",
       "total_payments             0.823314\n",
       "bonus                      1.000000\n",
       "Name: bonus, dtype: float64"
      ]
     },
     "execution_count": 15,
     "metadata": {},
     "output_type": "execute_result"
    }
   ],
   "source": [
    "df.corr()['bonus'].sort_values()"
   ]
  },
  {
   "cell_type": "code",
   "execution_count": 16,
   "metadata": {
    "cell_style": "split"
   },
   "outputs": [
    {
     "data": {
      "text/plain": [
       "<matplotlib.axes._subplots.AxesSubplot at 0x24259607d48>"
      ]
     },
     "execution_count": 16,
     "metadata": {},
     "output_type": "execute_result"
    },
    {
     "data": {
      "image/png": "[encoded data removed]",
      "text/plain": [
       "<Figure size 432x288 with 1 Axes>"
      ]
     },
     "metadata": {
      "needs_background": "light"
     },
     "output_type": "display_data"
    }
   ],
   "source": [
    "sns.distplot(df['bonus'].dropna())"
   ]
  },
  {
   "cell_type": "code",
   "execution_count": 17,
   "metadata": {
    "cell_style": "split",
    "scrolled": true
   },
   "outputs": [
    {
     "data": {
      "text/plain": [
       "<matplotlib.axes._subplots.AxesSubplot at 0x242596071c8>"
      ]
     },
     "execution_count": 17,
     "metadata": {},
     "output_type": "execute_result"
    },
    {
     "data": {
      "image/png": "[encoded data removed]",
      "text/plain": [
       "<Figure size 432x288 with 1 Axes>"
      ]
     },
     "metadata": {
      "needs_background": "light"
     },
     "output_type": "display_data"
    }
   ],
   "source": [
    "sns.boxplot(df['bonus'].dropna())"
   ]
  },
  {
   "cell_type": "code",
   "execution_count": 18,
   "metadata": {
    "cell_style": "center"
   },
   "outputs": [],
   "source": [
    "#df.loc[df.query('bonus > 3e6').index, 'bonus'] = np.nan"
   ]
  },
  {
   "cell_type": "code",
   "execution_count": 19,
   "metadata": {},
   "outputs": [
    {
     "name": "stdout",
     "output_type": "stream",
     "text": [
      "Score: 0.9415966138139348\n"
     ]
    },
    {
     "name": "stderr",
     "output_type": "stream",
     "text": [
      "C:\\Users\\christine\\Anaconda3\\lib\\site-packages\\sklearn\\ensemble\\forest.py:245: FutureWarning: The default value of n_estimators will change from 10 in version 0.20 to 100 in 0.22.\n",
      "  \"10 in version 0.20 to 100 in 0.22.\", FutureWarning)\n"
     ]
    }
   ],
   "source": [
    "model = RandomForestImputer(df, 'bonus', .1)"
   ]
  },
  {
   "cell_type": "code",
   "execution_count": 21,
   "metadata": {},
   "outputs": [
    {
     "name": "stdout",
     "output_type": "stream",
     "text": [
      "Impute 0 data\n",
      "Impute 2 data\n",
      "Impute 1 data\n"
     ]
    }
   ],
   "source": [
    "df = model.predict(df)\n",
    "special_people = model.predict(special_people_train);special_people_test  = model.predict(special_people_test)"
   ]
  },
  {
   "cell_type": "markdown",
   "metadata": {},
   "source": [
    "### 處理 exercised_stock_options"
   ]
  },
  {
   "cell_type": "code",
   "execution_count": 22,
   "metadata": {},
   "outputs": [
    {
     "data": {
      "text/plain": [
       "salary                    -0.099291\n",
       "total_payments            -0.042468\n",
       "bonus                     -0.010391\n",
       "other                      0.044931\n",
       "poi                        0.145951\n",
       "long_term_incentive        0.147143\n",
       "restricted_stock           0.444687\n",
       "total_stock_value          0.950155\n",
       "exercised_stock_options    1.000000\n",
       "Name: exercised_stock_options, dtype: float64"
      ]
     },
     "execution_count": 22,
     "metadata": {},
     "output_type": "execute_result"
    }
   ],
   "source": [
    "df.corr()['exercised_stock_options'].sort_values()"
   ]
  },
  {
   "cell_type": "code",
   "execution_count": 23,
   "metadata": {
    "cell_style": "split"
   },
   "outputs": [
    {
     "data": {
      "text/plain": [
       "<matplotlib.axes._subplots.AxesSubplot at 0x2425b8c9788>"
      ]
     },
     "execution_count": 23,
     "metadata": {},
     "output_type": "execute_result"
    },
    {
     "data": {
      "image/png": "[encoded data removed]",
      "text/plain": [
       "<Figure size 432x288 with 1 Axes>"
      ]
     },
     "metadata": {
      "needs_background": "light"
     },
     "output_type": "display_data"
    }
   ],
   "source": [
    "sns.distplot(df['exercised_stock_options'].dropna())"
   ]
  },
  {
   "cell_type": "code",
   "execution_count": 24,
   "metadata": {
    "cell_style": "split"
   },
   "outputs": [
    {
     "data": {
      "text/plain": [
       "<matplotlib.axes._subplots.AxesSubplot at 0x2425b83b748>"
      ]
     },
     "execution_count": 24,
     "metadata": {},
     "output_type": "execute_result"
    },
    {
     "data": {
      "image/png": "[encoded data removed]",
      "text/plain": [
       "<Figure size 432x288 with 1 Axes>"
      ]
     },
     "metadata": {
      "needs_background": "light"
     },
     "output_type": "display_data"
    }
   ],
   "source": [
    "sns.boxplot(df['exercised_stock_options'].dropna())"
   ]
  },
  {
   "cell_type": "code",
   "execution_count": 25,
   "metadata": {},
   "outputs": [],
   "source": [
    "#df.loc[df.query('exercised_stock_options > 1e7').index, 'exercised_stock_options'] = np.nan"
   ]
  },
  {
   "cell_type": "code",
   "execution_count": 26,
   "metadata": {},
   "outputs": [
    {
     "name": "stdout",
     "output_type": "stream",
     "text": [
      "Score: 0.9821852114208198\n"
     ]
    },
    {
     "name": "stderr",
     "output_type": "stream",
     "text": [
      "C:\\Users\\christine\\Anaconda3\\lib\\site-packages\\sklearn\\ensemble\\forest.py:245: FutureWarning: The default value of n_estimators will change from 10 in version 0.20 to 100 in 0.22.\n",
      "  \"10 in version 0.20 to 100 in 0.22.\", FutureWarning)\n"
     ]
    }
   ],
   "source": [
    "model = RandomForestImputer(df, 'exercised_stock_options', .1)"
   ]
  },
  {
   "cell_type": "code",
   "execution_count": 27,
   "metadata": {},
   "outputs": [
    {
     "name": "stdout",
     "output_type": "stream",
     "text": [
      "Impute 44 data\n",
      "Impute 0 data\n",
      "Impute 0 data\n"
     ]
    }
   ],
   "source": [
    "df = model.predict(df)\n",
    "special_people = model.predict(special_people_train);special_people_test  = model.predict(special_people_test)"
   ]
  },
  {
   "cell_type": "markdown",
   "metadata": {},
   "source": [
    "### 處理 long_term_incentive"
   ]
  },
  {
   "cell_type": "code",
   "execution_count": 28,
   "metadata": {},
   "outputs": [
    {
     "data": {
      "text/plain": [
       "other                     -0.075639\n",
       "restricted_stock           0.047560\n",
       "total_stock_value          0.088402\n",
       "poi                        0.115533\n",
       "exercised_stock_options    0.122473\n",
       "bonus                      0.334444\n",
       "salary                     0.337528\n",
       "total_payments             0.456531\n",
       "long_term_incentive        1.000000\n",
       "Name: long_term_incentive, dtype: float64"
      ]
     },
     "execution_count": 28,
     "metadata": {},
     "output_type": "execute_result"
    }
   ],
   "source": [
    "df.corr()['long_term_incentive'].sort_values()"
   ]
  },
  {
   "cell_type": "code",
   "execution_count": 29,
   "metadata": {
    "cell_style": "split"
   },
   "outputs": [
    {
     "data": {
      "text/plain": [
       "<matplotlib.axes._subplots.AxesSubplot at 0x2425c9507c8>"
      ]
     },
     "execution_count": 29,
     "metadata": {},
     "output_type": "execute_result"
    },
    {
     "data": {
      "image/png": "[encoded data removed]",
      "text/plain": [
       "<Figure size 432x288 with 1 Axes>"
      ]
     },
     "metadata": {
      "needs_background": "light"
     },
     "output_type": "display_data"
    }
   ],
   "source": [
    "sns.distplot(df['long_term_incentive'].dropna())"
   ]
  },
  {
   "cell_type": "code",
   "execution_count": 30,
   "metadata": {
    "cell_style": "split"
   },
   "outputs": [
    {
     "data": {
      "text/plain": [
       "<matplotlib.axes._subplots.AxesSubplot at 0x2425c9bfe88>"
      ]
     },
     "execution_count": 30,
     "metadata": {},
     "output_type": "execute_result"
    },
    {
     "data": {
      "image/png": "[encoded data removed]",
      "text/plain": [
       "<Figure size 432x288 with 1 Axes>"
      ]
     },
     "metadata": {
      "needs_background": "light"
     },
     "output_type": "display_data"
    }
   ],
   "source": [
    "sns.boxplot(df['long_term_incentive'].dropna())"
   ]
  },
  {
   "cell_type": "code",
   "execution_count": 31,
   "metadata": {},
   "outputs": [],
   "source": [
    "#df.loc[df.query('long_term_incentive > 2e6').index, 'long_term_incentive'] = np.nan"
   ]
  },
  {
   "cell_type": "code",
   "execution_count": 32,
   "metadata": {},
   "outputs": [
    {
     "name": "stdout",
     "output_type": "stream",
     "text": [
      "Score: 0.7622219654614191\n"
     ]
    },
    {
     "name": "stderr",
     "output_type": "stream",
     "text": [
      "C:\\Users\\christine\\Anaconda3\\lib\\site-packages\\sklearn\\ensemble\\forest.py:245: FutureWarning: The default value of n_estimators will change from 10 in version 0.20 to 100 in 0.22.\n",
      "  \"10 in version 0.20 to 100 in 0.22.\", FutureWarning)\n"
     ]
    }
   ],
   "source": [
    "model = RandomForestImputer(df, 'long_term_incentive', .1)"
   ]
  },
  {
   "cell_type": "code",
   "execution_count": 33,
   "metadata": {},
   "outputs": [
    {
     "name": "stdout",
     "output_type": "stream",
     "text": [
      "Impute 74 data\n",
      "Impute 4 data\n",
      "Impute 2 data\n"
     ]
    }
   ],
   "source": [
    "df = model.predict(df)\n",
    "special_people = model.predict(special_people_train);special_people_test  = model.predict(special_people_test)"
   ]
  },
  {
   "cell_type": "markdown",
   "metadata": {},
   "source": [
    "### 處理 other"
   ]
  },
  {
   "cell_type": "code",
   "execution_count": 34,
   "metadata": {},
   "outputs": [
    {
     "data": {
      "text/plain": [
       "salary                    -0.126608\n",
       "long_term_incentive       -0.044265\n",
       "bonus                     -0.012090\n",
       "exercised_stock_options    0.052436\n",
       "total_stock_value          0.152573\n",
       "poi                        0.214206\n",
       "total_payments             0.233046\n",
       "restricted_stock           0.299541\n",
       "other                      1.000000\n",
       "Name: other, dtype: float64"
      ]
     },
     "execution_count": 34,
     "metadata": {},
     "output_type": "execute_result"
    }
   ],
   "source": [
    "df.corr()['other'].sort_values()"
   ]
  },
  {
   "cell_type": "code",
   "execution_count": 35,
   "metadata": {
    "cell_style": "split"
   },
   "outputs": [
    {
     "data": {
      "text/plain": [
       "<matplotlib.axes._subplots.AxesSubplot at 0x2425ca39e48>"
      ]
     },
     "execution_count": 35,
     "metadata": {},
     "output_type": "execute_result"
    },
    {
     "data": {
      "image/png": "[encoded data removed]",
      "text/plain": [
       "<Figure size 432x288 with 1 Axes>"
      ]
     },
     "metadata": {
      "needs_background": "light"
     },
     "output_type": "display_data"
    }
   ],
   "source": [
    "sns.distplot(df['other'].dropna())"
   ]
  },
  {
   "cell_type": "code",
   "execution_count": 36,
   "metadata": {
    "cell_style": "split"
   },
   "outputs": [
    {
     "data": {
      "text/plain": [
       "<matplotlib.axes._subplots.AxesSubplot at 0x2425ca3ccc8>"
      ]
     },
     "execution_count": 36,
     "metadata": {},
     "output_type": "execute_result"
    },
    {
     "data": {
      "image/png": "[encoded data removed]",
      "text/plain": [
       "<Figure size 432x288 with 1 Axes>"
      ]
     },
     "metadata": {
      "needs_background": "light"
     },
     "output_type": "display_data"
    }
   ],
   "source": [
    "sns.boxplot(df['other'].dropna())"
   ]
  },
  {
   "cell_type": "code",
   "execution_count": 37,
   "metadata": {},
   "outputs": [],
   "source": [
    "#df.loc[df.query('other > 4e6').index, 'other'] = np.nan"
   ]
  },
  {
   "cell_type": "code",
   "execution_count": 38,
   "metadata": {},
   "outputs": [
    {
     "name": "stdout",
     "output_type": "stream",
     "text": [
      "Score: 0.6769364299634534\n"
     ]
    },
    {
     "name": "stderr",
     "output_type": "stream",
     "text": [
      "C:\\Users\\christine\\Anaconda3\\lib\\site-packages\\sklearn\\ensemble\\forest.py:245: FutureWarning: The default value of n_estimators will change from 10 in version 0.20 to 100 in 0.22.\n",
      "  \"10 in version 0.20 to 100 in 0.22.\", FutureWarning)\n"
     ]
    }
   ],
   "source": [
    "model = RandomForestImputer(df, 'other', .1)"
   ]
  },
  {
   "cell_type": "code",
   "execution_count": 39,
   "metadata": {
    "scrolled": true
   },
   "outputs": [
    {
     "name": "stdout",
     "output_type": "stream",
     "text": [
      "Impute 52 data\n",
      "Impute 1 data\n",
      "Impute 0 data\n"
     ]
    }
   ],
   "source": [
    "df = model.predict(df)\n",
    "special_people = model.predict(special_people_train);special_people_test  = model.predict(special_people_test)"
   ]
  },
  {
   "cell_type": "markdown",
   "metadata": {},
   "source": [
    "### 處理 restricted_stock"
   ]
  },
  {
   "cell_type": "code",
   "execution_count": 40,
   "metadata": {},
   "outputs": [
    {
     "data": {
      "text/plain": [
       "long_term_incentive        0.043148\n",
       "total_payments             0.128905\n",
       "bonus                      0.150097\n",
       "poi                        0.168394\n",
       "salary                     0.200255\n",
       "other                      0.261528\n",
       "exercised_stock_options    0.443049\n",
       "total_stock_value          0.662897\n",
       "restricted_stock           1.000000\n",
       "Name: restricted_stock, dtype: float64"
      ]
     },
     "execution_count": 40,
     "metadata": {},
     "output_type": "execute_result"
    }
   ],
   "source": [
    "df.corr()['restricted_stock'].sort_values()"
   ]
  },
  {
   "cell_type": "code",
   "execution_count": 41,
   "metadata": {
    "cell_style": "split"
   },
   "outputs": [
    {
     "data": {
      "text/plain": [
       "<matplotlib.axes._subplots.AxesSubplot at 0x2425cb27d88>"
      ]
     },
     "execution_count": 41,
     "metadata": {},
     "output_type": "execute_result"
    },
    {
     "data": {
      "image/png": "[encoded data removed]",
      "text/plain": [
       "<Figure size 432x288 with 1 Axes>"
      ]
     },
     "metadata": {
      "needs_background": "light"
     },
     "output_type": "display_data"
    }
   ],
   "source": [
    "sns.distplot(df['restricted_stock'].dropna())"
   ]
  },
  {
   "cell_type": "code",
   "execution_count": 42,
   "metadata": {
    "cell_style": "split"
   },
   "outputs": [
    {
     "data": {
      "text/plain": [
       "<matplotlib.axes._subplots.AxesSubplot at 0x2425cb34208>"
      ]
     },
     "execution_count": 42,
     "metadata": {},
     "output_type": "execute_result"
    },
    {
     "data": {
      "image/png": "[encoded data removed]",
      "text/plain": [
       "<Figure size 432x288 with 1 Axes>"
      ]
     },
     "metadata": {
      "needs_background": "light"
     },
     "output_type": "display_data"
    }
   ],
   "source": [
    "sns.boxplot(df['restricted_stock'].dropna())"
   ]
  },
  {
   "cell_type": "code",
   "execution_count": 43,
   "metadata": {},
   "outputs": [],
   "source": [
    "#df.loc[df.query('restricted_stock > 4e7').index, 'restricted_stock'] = np.nan"
   ]
  },
  {
   "cell_type": "code",
   "execution_count": 44,
   "metadata": {
    "cell_style": "split"
   },
   "outputs": [
    {
     "data": {
      "text/plain": [
       "Series([], Name: restricted_stock, dtype: float64)"
      ]
     },
     "execution_count": 44,
     "metadata": {},
     "output_type": "execute_result"
    }
   ],
   "source": [
    "df.query('restricted_stock < 0')['restricted_stock']"
   ]
  },
  {
   "cell_type": "code",
   "execution_count": 45,
   "metadata": {
    "cell_style": "split"
   },
   "outputs": [],
   "source": [
    "df['restricted_stock'] = abs(df['restricted_stock'])"
   ]
  },
  {
   "cell_type": "code",
   "execution_count": 46,
   "metadata": {},
   "outputs": [
    {
     "name": "stdout",
     "output_type": "stream",
     "text": [
      "Score: 0.8341405042031952\n"
     ]
    },
    {
     "name": "stderr",
     "output_type": "stream",
     "text": [
      "C:\\Users\\christine\\Anaconda3\\lib\\site-packages\\sklearn\\ensemble\\forest.py:245: FutureWarning: The default value of n_estimators will change from 10 in version 0.20 to 100 in 0.22.\n",
      "  \"10 in version 0.20 to 100 in 0.22.\", FutureWarning)\n"
     ]
    }
   ],
   "source": [
    "model = RandomForestImputer(df, 'restricted_stock', .1)"
   ]
  },
  {
   "cell_type": "code",
   "execution_count": 47,
   "metadata": {
    "scrolled": true
   },
   "outputs": [
    {
     "name": "stdout",
     "output_type": "stream",
     "text": [
      "Impute 33 data\n",
      "Impute 3 data\n",
      "Impute 0 data\n"
     ]
    }
   ],
   "source": [
    "df = model.predict(df)\n",
    "special_people = model.predict(special_people_train);special_people_test  = model.predict(special_people_test)"
   ]
  },
  {
   "cell_type": "markdown",
   "metadata": {},
   "source": [
    "### 處理 salary"
   ]
  },
  {
   "cell_type": "code",
   "execution_count": 48,
   "metadata": {},
   "outputs": [
    {
     "data": {
      "text/plain": [
       "other                     -0.122664\n",
       "exercised_stock_options   -0.044208\n",
       "total_stock_value         -0.006600\n",
       "poi                        0.126596\n",
       "restricted_stock           0.207943\n",
       "long_term_incentive        0.235500\n",
       "bonus                      0.394258\n",
       "total_payments             0.444342\n",
       "salary                     1.000000\n",
       "Name: salary, dtype: float64"
      ]
     },
     "execution_count": 48,
     "metadata": {},
     "output_type": "execute_result"
    }
   ],
   "source": [
    "df.corr()['salary'].sort_values()"
   ]
  },
  {
   "cell_type": "code",
   "execution_count": 49,
   "metadata": {
    "cell_style": "split"
   },
   "outputs": [
    {
     "data": {
      "text/plain": [
       "<matplotlib.axes._subplots.AxesSubplot at 0x2425cbefd88>"
      ]
     },
     "execution_count": 49,
     "metadata": {},
     "output_type": "execute_result"
    },
    {
     "data": {
      "image/png": "[encoded data removed]",
      "text/plain": [
       "<Figure size 432x288 with 1 Axes>"
      ]
     },
     "metadata": {
      "needs_background": "light"
     },
     "output_type": "display_data"
    }
   ],
   "source": [
    "sns.distplot(df['salary'].dropna())"
   ]
  },
  {
   "cell_type": "code",
   "execution_count": 50,
   "metadata": {
    "cell_style": "split"
   },
   "outputs": [
    {
     "data": {
      "text/plain": [
       "<matplotlib.axes._subplots.AxesSubplot at 0x2425ccc1248>"
      ]
     },
     "execution_count": 50,
     "metadata": {},
     "output_type": "execute_result"
    },
    {
     "data": {
      "image/png": "[encoded data removed]",
      "text/plain": [
       "<Figure size 432x288 with 1 Axes>"
      ]
     },
     "metadata": {
      "needs_background": "light"
     },
     "output_type": "display_data"
    }
   ],
   "source": [
    "sns.boxplot(df['salary'].dropna())"
   ]
  },
  {
   "cell_type": "code",
   "execution_count": 51,
   "metadata": {},
   "outputs": [],
   "source": [
    "#df.loc[df.query('salary > 2e7').index, 'salary'] = np.nan"
   ]
  },
  {
   "cell_type": "code",
   "execution_count": 52,
   "metadata": {},
   "outputs": [
    {
     "name": "stdout",
     "output_type": "stream",
     "text": [
      "Score: 0.8452931914941576\n"
     ]
    },
    {
     "name": "stderr",
     "output_type": "stream",
     "text": [
      "C:\\Users\\christine\\Anaconda3\\lib\\site-packages\\sklearn\\ensemble\\forest.py:245: FutureWarning: The default value of n_estimators will change from 10 in version 0.20 to 100 in 0.22.\n",
      "  \"10 in version 0.20 to 100 in 0.22.\", FutureWarning)\n"
     ]
    }
   ],
   "source": [
    "model = RandomForestImputer(df, 'salary', .1)"
   ]
  },
  {
   "cell_type": "code",
   "execution_count": 53,
   "metadata": {
    "scrolled": true
   },
   "outputs": [
    {
     "name": "stdout",
     "output_type": "stream",
     "text": [
      "Impute 49 data\n",
      "Impute 1 data\n",
      "Impute 1 data\n"
     ]
    }
   ],
   "source": [
    "df = model.predict(df)\n",
    "special_people = model.predict(special_people_train);special_people_test  = model.predict(special_people_test)"
   ]
  },
  {
   "cell_type": "markdown",
   "metadata": {},
   "source": [
    "### 處理 total_payments"
   ]
  },
  {
   "cell_type": "code",
   "execution_count": 54,
   "metadata": {},
   "outputs": [
    {
     "data": {
      "text/plain": [
       "total_stock_value          0.069068\n",
       "exercised_stock_options    0.085050\n",
       "other                      0.093121\n",
       "long_term_incentive        0.133013\n",
       "poi                        0.134461\n",
       "restricted_stock           0.202724\n",
       "salary                     0.463448\n",
       "bonus                      0.723433\n",
       "total_payments             1.000000\n",
       "Name: total_payments, dtype: float64"
      ]
     },
     "execution_count": 54,
     "metadata": {},
     "output_type": "execute_result"
    }
   ],
   "source": [
    "df.corr()['total_payments'].sort_values()"
   ]
  },
  {
   "cell_type": "code",
   "execution_count": 55,
   "metadata": {
    "cell_style": "split"
   },
   "outputs": [
    {
     "data": {
      "text/plain": [
       "<matplotlib.axes._subplots.AxesSubplot at 0x2425cc47548>"
      ]
     },
     "execution_count": 55,
     "metadata": {},
     "output_type": "execute_result"
    },
    {
     "data": {
      "image/png": "[encoded data removed]",
      "text/plain": [
       "<Figure size 432x288 with 1 Axes>"
      ]
     },
     "metadata": {
      "needs_background": "light"
     },
     "output_type": "display_data"
    }
   ],
   "source": [
    "sns.distplot(df['total_payments'].dropna())"
   ]
  },
  {
   "cell_type": "code",
   "execution_count": 56,
   "metadata": {
    "cell_style": "split"
   },
   "outputs": [
    {
     "data": {
      "text/plain": [
       "<matplotlib.axes._subplots.AxesSubplot at 0x2425cd25dc8>"
      ]
     },
     "execution_count": 56,
     "metadata": {},
     "output_type": "execute_result"
    },
    {
     "data": {
      "image/png": "[encoded data removed]",
      "text/plain": [
       "<Figure size 432x288 with 1 Axes>"
      ]
     },
     "metadata": {
      "needs_background": "light"
     },
     "output_type": "display_data"
    }
   ],
   "source": [
    "sns.boxplot(df['total_payments'].dropna())"
   ]
  },
  {
   "cell_type": "code",
   "execution_count": 57,
   "metadata": {},
   "outputs": [],
   "source": [
    "#df.loc[df.query('total_payments > 2e7').index, 'total_payments'] = np.nan"
   ]
  },
  {
   "cell_type": "code",
   "execution_count": 58,
   "metadata": {},
   "outputs": [
    {
     "name": "stdout",
     "output_type": "stream",
     "text": [
      "Score: 0.9533725014888221\n"
     ]
    },
    {
     "name": "stderr",
     "output_type": "stream",
     "text": [
      "C:\\Users\\christine\\Anaconda3\\lib\\site-packages\\sklearn\\ensemble\\forest.py:245: FutureWarning: The default value of n_estimators will change from 10 in version 0.20 to 100 in 0.22.\n",
      "  \"10 in version 0.20 to 100 in 0.22.\", FutureWarning)\n"
     ]
    }
   ],
   "source": [
    "model = RandomForestImputer(df, 'total_payments', .1)"
   ]
  },
  {
   "cell_type": "code",
   "execution_count": 59,
   "metadata": {
    "scrolled": true
   },
   "outputs": [
    {
     "name": "stdout",
     "output_type": "stream",
     "text": [
      "Impute 21 data\n",
      "Impute 0 data\n",
      "Impute 0 data\n"
     ]
    }
   ],
   "source": [
    "df = model.predict(df)\n",
    "special_people = model.predict(special_people_train);special_people_test  = model.predict(special_people_test)"
   ]
  },
  {
   "cell_type": "markdown",
   "metadata": {},
   "source": [
    "### 處理 total_stock_value"
   ]
  },
  {
   "cell_type": "code",
   "execution_count": 60,
   "metadata": {},
   "outputs": [
    {
     "data": {
      "text/plain": [
       "long_term_incentive        0.065563\n",
       "bonus                      0.078796\n",
       "other                      0.086902\n",
       "salary                     0.093564\n",
       "poi                        0.102342\n",
       "total_payments             0.130338\n",
       "restricted_stock           0.665265\n",
       "exercised_stock_options    0.953694\n",
       "total_stock_value          1.000000\n",
       "Name: total_stock_value, dtype: float64"
      ]
     },
     "execution_count": 60,
     "metadata": {},
     "output_type": "execute_result"
    }
   ],
   "source": [
    "df.corr()['total_stock_value'].sort_values()"
   ]
  },
  {
   "cell_type": "code",
   "execution_count": 61,
   "metadata": {
    "cell_style": "split"
   },
   "outputs": [
    {
     "data": {
      "text/plain": [
       "<matplotlib.axes._subplots.AxesSubplot at 0x2425ce0f7c8>"
      ]
     },
     "execution_count": 61,
     "metadata": {},
     "output_type": "execute_result"
    },
    {
     "data": {
      "image/png": "[encoded data removed]",
      "text/plain": [
       "<Figure size 432x288 with 1 Axes>"
      ]
     },
     "metadata": {
      "needs_background": "light"
     },
     "output_type": "display_data"
    }
   ],
   "source": [
    "sns.distplot(df['total_stock_value'].dropna())"
   ]
  },
  {
   "cell_type": "code",
   "execution_count": 62,
   "metadata": {
    "cell_style": "split"
   },
   "outputs": [
    {
     "data": {
      "text/plain": [
       "<matplotlib.axes._subplots.AxesSubplot at 0x2425ce0f448>"
      ]
     },
     "execution_count": 62,
     "metadata": {},
     "output_type": "execute_result"
    },
    {
     "data": {
      "image/png": "[encoded data removed]",
      "text/plain": [
       "<Figure size 432x288 with 1 Axes>"
      ]
     },
     "metadata": {
      "needs_background": "light"
     },
     "output_type": "display_data"
    }
   ],
   "source": [
    "sns.boxplot(df['total_stock_value'].dropna())"
   ]
  },
  {
   "cell_type": "code",
   "execution_count": 63,
   "metadata": {},
   "outputs": [],
   "source": [
    "#df.loc[df.query('total_stock_value > 2e7').index, 'total_stock_value'] = np.nan"
   ]
  },
  {
   "cell_type": "code",
   "execution_count": 64,
   "metadata": {
    "cell_style": "split"
   },
   "outputs": [
    {
     "data": {
      "text/plain": [
       "50   -44093.0\n",
       "Name: total_stock_value, dtype: float64"
      ]
     },
     "execution_count": 64,
     "metadata": {},
     "output_type": "execute_result"
    }
   ],
   "source": [
    "df.query('total_stock_value < 0')['total_stock_value']"
   ]
  },
  {
   "cell_type": "code",
   "execution_count": 65,
   "metadata": {
    "cell_style": "split"
   },
   "outputs": [],
   "source": [
    "df['total_stock_value'] = abs(df['total_stock_value'])"
   ]
  },
  {
   "cell_type": "code",
   "execution_count": 66,
   "metadata": {},
   "outputs": [
    {
     "name": "stdout",
     "output_type": "stream",
     "text": [
      "Score: 0.9877910452441204\n"
     ]
    },
    {
     "name": "stderr",
     "output_type": "stream",
     "text": [
      "C:\\Users\\christine\\Anaconda3\\lib\\site-packages\\sklearn\\ensemble\\forest.py:245: FutureWarning: The default value of n_estimators will change from 10 in version 0.20 to 100 in 0.22.\n",
      "  \"10 in version 0.20 to 100 in 0.22.\", FutureWarning)\n"
     ]
    }
   ],
   "source": [
    "model = RandomForestImputer(df, 'total_stock_value', .1)"
   ]
  },
  {
   "cell_type": "code",
   "execution_count": 67,
   "metadata": {},
   "outputs": [
    {
     "name": "stdout",
     "output_type": "stream",
     "text": [
      "Impute 19 data\n",
      "Impute 0 data\n",
      "Impute 1 data\n"
     ]
    }
   ],
   "source": [
    "df = model.predict(df)\n",
    "special_people = model.predict(special_people_train);special_people_test  = model.predict(special_people_test)"
   ]
  },
  {
   "cell_type": "markdown",
   "metadata": {},
   "source": [
    "## 特徵工程"
   ]
  },
  {
   "cell_type": "markdown",
   "metadata": {},
   "source": [
    "## 模型建立"
   ]
  },
  {
   "cell_type": "code",
   "execution_count": 68,
   "metadata": {},
   "outputs": [],
   "source": [
    "last_train_score = 0\n",
    "last_val_score = 0"
   ]
  },
  {
   "cell_type": "code",
   "execution_count": 73,
   "metadata": {},
   "outputs": [],
   "source": [
    "train_data = df[df['poi'].notnull()].append(special_people_train)\n",
    "test_data = df[df['poi'].isnull()].append(special_people_test)\n",
    "\n",
    "x_train, y_train = train_data.drop(['poi'], axis=1), train_data['poi']\n",
    "x_test = test_data.sort_index().drop(['poi'], axis=1)\n",
    "x_train, x_val, y_train, y_val = train_test_split(x_train, y_train, test_size=.1, random_state=1, stratify=y_train)"
   ]
  },
  {
   "cell_type": "code",
   "execution_count": 74,
   "metadata": {},
   "outputs": [
    {
     "name": "stderr",
     "output_type": "stream",
     "text": [
      "C:\\Users\\christine\\Anaconda3\\lib\\site-packages\\sklearn\\model_selection\\_search.py:814: DeprecationWarning: The default of the `iid` parameter will change from True to False in version 0.22 and will be removed in 0.24. This will change numeric results when test-set sizes are unequal.\n",
      "  DeprecationWarning)\n"
     ]
    },
    {
     "data": {
      "text/plain": [
       "GridSearchCV(cv=4, error_score='raise-deprecating',\n",
       "             estimator=XGBClassifier(base_score=0.5, booster='gbtree',\n",
       "                                     colsample_bylevel=1, colsample_bynode=1,\n",
       "                                     colsample_bytree=1, gamma=0,\n",
       "                                     learning_rate=0.1, max_delta_step=0,\n",
       "                                     max_depth=3, min_child_weight=1,\n",
       "                                     missing=None, n_estimators=100, n_jobs=1,\n",
       "                                     nthread=None, objective='binary:logistic',\n",
       "                                     random_state=0, reg_alpha=0, reg_lambda=1,\n",
       "                                     scale_pos_weight=1, seed=None, silent=None,\n",
       "                                     subsample=1, verbosity=1),\n",
       "             iid='warn', n_jobs=None,\n",
       "             param_grid={'colsample_bytree': [0.5], 'gamma': [1],\n",
       "                         'max_denph': [2], 'min_child_weight': [2],\n",
       "                         'subsample': [0.5]},\n",
       "             pre_dispatch='2*n_jobs', refit=True, return_train_score=False,\n",
       "             scoring='roc_auc', verbose=0)"
      ]
     },
     "execution_count": 74,
     "metadata": {},
     "output_type": "execute_result"
    }
   ],
   "source": [
    "param_grid = {'max_denph': [2], 'min_child_weight': [2], 'gamma':[1], 'subsample':[.5], 'colsample_bytree':[.5]}\n",
    "\n",
    "model = XGBClassifier()\n",
    "grid_model = GridSearchCV(model, param_grid=param_grid, cv=4, scoring='roc_auc')\n",
    "grid_model.fit(x_train, y_train)"
   ]
  },
  {
   "cell_type": "code",
   "execution_count": 75,
   "metadata": {},
   "outputs": [
    {
     "name": "stdout",
     "output_type": "stream",
     "text": [
      "    | train | val\n",
      "last| 0.8968750000000001 | 0.7\n",
      "new | 0.8848314606741573 | 1.0\n",
      "{'colsample_bytree': 0.5, 'gamma': 1, 'max_denph': 2, 'min_child_weight': 2, 'subsample': 0.5}\n"
     ]
    }
   ],
   "source": [
    "print('    | train | val')\n",
    "\n",
    "print('last|', last_train_score, '|', last_val_score)\n",
    "\n",
    "last_train_score = grid_model.score(x_train, y_train)\n",
    "last_val_score = grid_model.score(x_val, y_val)\n",
    "\n",
    "print('new |', last_train_score, '|', last_val_score)\n",
    "print(grid_model.best_params_)"
   ]
  },
  {
   "cell_type": "code",
   "execution_count": 76,
   "metadata": {},
   "outputs": [],
   "source": [
    "pred = grid_model.predict_proba(x_test)[:, 0]\n",
    "ans = pd.DataFrame({'name': test['name'], 'poi': pred})\n",
    "\n",
    "ans.to_csv('ans.csv', index=False)"
   ]
  },
  {
   "cell_type": "code",
   "execution_count": 77,
   "metadata": {},
   "outputs": [
    {
     "data": {
      "text/plain": [
       "array([0.8548988 , 0.8507607 , 0.7530823 , 0.6487476 , 0.7768039 ,\n",
       "       0.9042146 , 0.6341516 , 0.96526873, 0.9266432 , 0.9207146 ,\n",
       "       0.6902655 , 0.96526873, 0.9430222 , 0.96526873, 0.7297374 ,\n",
       "       0.96526873, 0.9193844 , 0.901819  , 0.9490596 , 0.9584485 ,\n",
       "       0.6341516 , 0.6971544 , 0.9368251 , 0.94373417, 0.9533707 ,\n",
       "       0.9533707 , 0.79421175, 0.9541372 , 0.9224423 , 0.696779  ,\n",
       "       0.91218686, 0.93485606, 0.89592856], dtype=float32)"
      ]
     },
     "execution_count": 77,
     "metadata": {},
     "output_type": "execute_result"
    }
   ],
   "source": [
    "pred"
   ]
  },
  {
   "cell_type": "code",
   "execution_count": null,
   "metadata": {},
   "outputs": [],
   "source": []
  }
 ],
 "metadata": {
  "kernelspec": {
   "display_name": "Python 3",
   "language": "python",
   "name": "python3"
  },
  "language_info": {
   "codemirror_mode": {
    "name": "ipython",
    "version": 3
   },
   "file_extension": ".py",
   "mimetype": "text/x-python",
   "name": "python",
   "nbconvert_exporter": "python",
   "pygments_lexer": "ipython3",
   "version": "3.7.4"
  },
  "toc": {
   "base_numbering": 1,
   "nav_menu": {},
   "number_sections": false,
   "sideBar": true,
   "skip_h1_title": false,
   "title_cell": "Table of Contents",
   "title_sidebar": "Contents",
   "toc_cell": false,
   "toc_position": {
    "height": "calc(100% - 180px)",
    "left": "10px",
    "top": "150px",
    "width": "165px"
   },
   "toc_section_display": true,
   "toc_window_display": true
  },
  "varInspector": {
   "cols": {
    "lenName": 16,
    "lenType": 16,
    "lenVar": 40
   },
   "kernels_config": {
    "python": {
     "delete_cmd_postfix": "",
     "delete_cmd_prefix": "del ",
     "library": "var_list.py",
     "varRefreshCmd": "print(var_dic_list())"
    },
    "r": {
     "delete_cmd_postfix": ") ",
     "delete_cmd_prefix": "rm(",
     "library": "var_list.r",
     "varRefreshCmd": "cat(var_dic_list()) "
    }
   },
   "position": {
    "height": "328.667px",
    "left": "936.333px",
    "right": "20px",
    "top": "120px",
    "width": "323.667px"
   },
   "types_to_exclude": [
    "module",
    "function",
    "builtin_function_or_method",
    "instance",
    "_Feature"
   ],
   "window_display": false
  }
 },
 "nbformat": 4,
 "nbformat_minor": 2
}
