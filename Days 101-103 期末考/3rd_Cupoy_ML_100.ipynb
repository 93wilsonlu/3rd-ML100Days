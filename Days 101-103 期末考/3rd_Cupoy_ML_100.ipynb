{
  "nbformat": 4,
  "nbformat_minor": 0,
  "metadata": {
    "colab": {
      "name": "3rd_Cupoy ML 100.ipynb",
      "provenance": [],
      "collapsed_sections": [],
      "machine_shape": "hm"
    },
    "kernelspec": {
      "name": "python3",
      "display_name": "Python 3"
    },
    "accelerator": "GPU"
  },
  "cells": [
    {
      "cell_type": "code",
      "metadata": {
        "id": "f_xvxO6vKaQE",
        "colab_type": "code",
        "colab": {}
      },
      "source": [
        "from google.colab import drive\n",
        "import os\n",
        "drive.mount('/content/drive')\n",
        "os.chdir(\"/content/drive/My Drive/Colab Notebooks/image_data\")\n",
        "!ls"
      ],
      "execution_count": 0,
      "outputs": []
    },
    {
      "cell_type": "code",
      "metadata": {
        "id": "YGdv1MDvU3lo",
        "colab_type": "code",
        "colab": {}
      },
      "source": [
        "!pip install keras-lookahead keras-rectified-adam"
      ],
      "execution_count": 0,
      "outputs": []
    },
    {
      "cell_type": "markdown",
      "metadata": {
        "id": "15NxuDmAJrTf",
        "colab_type": "text"
      },
      "source": [
        "# 3rd_Cupoy ML 100"
      ]
    },
    {
      "cell_type": "code",
      "metadata": {
        "id": "H72mX8QPT5os",
        "colab_type": "code",
        "colab": {}
      },
      "source": [
        "import cv2\n",
        "import time\n",
        "import numpy as np\n",
        "import pandas as pd\n",
        "import matplotlib.pyplot as plt\n",
        "from multiprocessing import Pool\n",
        "from google.colab.patches import cv2_imshow\n",
        "\n",
        "from keras.applications.xception import Xception\n",
        "from keras.applications.mobilenet_v2 import MobileNetV2\n",
        "\n",
        "from keras.layers import GlobalAveragePooling2D, Dense, BatchNormalization, Dropout, Conv2D, MaxPooling2D, Input\n",
        "from keras.callbacks import EarlyStopping, ModelCheckpoint\n",
        "from keras.preprocessing.image import ImageDataGenerator\n",
        "from keras.regularizers import l1_l2\n",
        "from keras.models import Model, load_model\n",
        "from keras import backend as K\n",
        "\n",
        "from keras_lookahead import Lookahead\n",
        "from keras_radam import RAdam\n",
        "\n",
        "os.environ[\"CUDA_VISIBLE_DEVICES\"] = \"0\""
      ],
      "execution_count": 0,
      "outputs": []
    },
    {
      "cell_type": "code",
      "metadata": {
        "id": "bThGzH-zWiMN",
        "colab_type": "code",
        "colab": {}
      },
      "source": [
        "l1_rate = 0.001\n",
        "l2_rate = 0.001\n",
        "img_width = 224\n",
        "img_height = 224"
      ],
      "execution_count": 0,
      "outputs": []
    },
    {
      "cell_type": "code",
      "metadata": {
        "id": "KRkwNbNHmykH",
        "colab_type": "code",
        "colab": {}
      },
      "source": [
        "def get_sample_size(method='train'):\n",
        "    return sum([len(os.listdir(os.path.join(method, class_))) for class_ in os.listdir(method)])"
      ],
      "execution_count": 0,
      "outputs": []
    },
    {
      "cell_type": "markdown",
      "metadata": {
        "id": "QIdNi4QEJdDh",
        "colab_type": "text"
      },
      "source": [
        "### train"
      ]
    },
    {
      "cell_type": "code",
      "metadata": {
        "id": "dIIyGmncKIwi",
        "colab_type": "code",
        "colab": {}
      },
      "source": [
        "K.clear_session()\n",
        "\n",
        "base_model = MobileNetV2(weights='imagenet', include_top=False, alpha=.75)\n",
        "\n",
        "x = Conv2D(128, (3, 3), padding='same', activation='relu', kernel_regularizer=l1_l2(l1=l1_rate, l2=l2_rate))(base_model.output)\n",
        "x = MaxPooling2D((2, 2))(x)\n",
        "x = BatchNormalization()(x)\n",
        "x = Dropout(0.4)(x)\n",
        "\n",
        "x = Conv2D(128, (3, 3), padding='same', activation='relu', kernel_regularizer=l1_l2(l1=l1_rate, l2=l2_rate))(base_model.output)\n",
        "x = MaxPooling2D((2, 2))(x)\n",
        "x = BatchNormalization()(x)\n",
        "x = Dropout(0.4)(x)\n",
        "\n",
        "x = GlobalAveragePooling2D()(x)\n",
        "\n",
        "x = Dense(256, activation='relu', kernel_regularizer=l1_l2(l1=l1_rate, l2=l2_rate))(x)\n",
        "x = BatchNormalization()(x)\n",
        "x = Dropout(0.4)(x)\n",
        "\n",
        "predictions = Dense(5, activation='softmax')(x)\n",
        "\n",
        "model = Model(base_model.input, predictions)\n",
        "for layers in base_model.layers:\n",
        "    layers.trainable = False\n",
        "\n",
        "model.compile(loss='categorical_crossentropy',\n",
        "              optimizer=Lookahead(RAdam()),\n",
        "              metrics=['accuracy'])"
      ],
      "execution_count": 0,
      "outputs": []
    },
    {
      "cell_type": "code",
      "metadata": {
        "colab_type": "code",
        "id": "xmQqRE8XKPQp",
        "colab": {}
      },
      "source": [
        "model = load_model('mobile_net_v2_checkpoint.h5', custom_objects={'RAdam': RAdam, 'Lookahead': Lookahead})"
      ],
      "execution_count": 0,
      "outputs": []
    },
    {
      "cell_type": "code",
      "metadata": {
        "colab_type": "code",
        "id": "vbp2ar9aKPQ4",
        "colab": {}
      },
      "source": [
        "model.summary()"
      ],
      "execution_count": 0,
      "outputs": []
    },
    {
      "cell_type": "code",
      "metadata": {
        "id": "KiKGAXItAJU_",
        "colab_type": "code",
        "colab": {}
      },
      "source": [
        "BATCH_SIZE = 256\n",
        "EPOCHS = 100\n",
        "\n",
        "early_stopping = EarlyStopping(monitor='val_loss', patience=5, min_delta=.00003)\n",
        "mobile_net_v2_checkpoint_2 = ModelCheckpoint('mobile_net_v2_checkpoint.h5', monitor='val_loss', save_best_only=True)\n",
        "data_generator = ImageDataGenerator(rotation_range=50, \n",
        "                                    width_shift_range=0.4, \n",
        "                                    height_shift_range=0.4, \n",
        "                                    shear_range=0.2,\n",
        "                                    zoom_range=0.2,\n",
        "                                    channel_shift_range=10,\n",
        "                                    horizontal_flip=True, \n",
        "                                    vertical_flip=True, \n",
        "                                    fill_mode='reflect',\n",
        "                                    rescale=1/255.)\n",
        "\n",
        "train_batches = data_generator.flow_from_directory('train', target_size=(img_width, img_height), batch_size=BATCH_SIZE)\n",
        "val_batches = data_generator.flow_from_directory('val', target_size=(img_width, img_height), batch_size=BATCH_SIZE)\n",
        "\n",
        "history = model.fit_generator(train_batches, \n",
        "                              validation_data=val_batches, \n",
        "                              steps_per_epoch=get_sample_size('train') // BATCH_SIZE, \n",
        "                              epochs=EPOCHS, \n",
        "                              callbacks=[early_stopping, mobile_net_v2_checkpoint_2])"
      ],
      "execution_count": 0,
      "outputs": []
    },
    {
      "cell_type": "markdown",
      "metadata": {
        "id": "aaKff3mRJxYc",
        "colab_type": "text"
      },
      "source": [
        "### evaluate"
      ]
    },
    {
      "cell_type": "code",
      "metadata": {
        "id": "_3Qs5bEv27L6",
        "colab_type": "code",
        "colab": {}
      },
      "source": [
        "train_loss = history.history[\"loss\"]\n",
        "valid_loss = history.history[\"val_loss\"]\n",
        "train_acc = history.history[\"acc\"]\n",
        "valid_acc = history.history[\"val_acc\"]\n",
        "\n",
        "plt.plot(range(len(train_loss)), train_loss, label=\"train loss\")\n",
        "plt.plot(range(len(valid_loss)), valid_loss, label=\"valid loss\")\n",
        "plt.legend()\n",
        "plt.title(\"Loss\")\n",
        "plt.show()\n",
        "\n",
        "plt.plot(range(len(train_acc)), train_acc, label=\"train accuracy\")\n",
        "plt.plot(range(len(valid_acc)), valid_acc, label=\"valid accuracy\")\n",
        "plt.legend()\n",
        "plt.title(\"Accuracy\")\n",
        "plt.show()"
      ],
      "execution_count": 0,
      "outputs": []
    },
    {
      "cell_type": "code",
      "metadata": {
        "id": "859hR1fjlrk-",
        "colab_type": "code",
        "outputId": "3c33447b-0847-444a-e13d-27bd22f0fcb2",
        "colab": {
          "base_uri": "https://localhost:8080/",
          "height": 34
        }
      },
      "source": [
        "model.evaluate_generator(val_batches)"
      ],
      "execution_count": 0,
      "outputs": [
        {
          "output_type": "execute_result",
          "data": {
            "text/plain": [
              "[3.209246989658901, 0.7285714285714285]"
            ]
          },
          "metadata": {
            "tags": []
          },
          "execution_count": 66
        }
      ]
    },
    {
      "cell_type": "markdown",
      "metadata": {
        "id": "LsXqUqOtJ9ox",
        "colab_type": "text"
      },
      "source": [
        "### predict"
      ]
    },
    {
      "cell_type": "code",
      "metadata": {
        "id": "IUJYWkkLc9m6",
        "colab_type": "code",
        "colab": {}
      },
      "source": [
        "def img_load(path, width, height):\n",
        "    return cv2.resize(cv2.imread(path), (width, height))\n",
        "    \n",
        "def get_test_img(width=299, height=299, seed=0):\n",
        "    t = time.time()\n",
        "    pool = Pool(processes=10)\n",
        "    \n",
        "    ids = []\n",
        "    result = []\n",
        "    list_dir = os.listdir('test')\n",
        "    x = np.zeros(shape=[len(list_dir), width, height, 3], dtype='float16')\n",
        "\n",
        "    for dir_ in list_dir:\n",
        "        ids.append(dir_[:-4])\n",
        "        result.append(pool.apply_async(img_load, args=(os.path.join('test', dir_), width, height)))\n",
        "\n",
        "    pool.close()\n",
        "    pool.join()\n",
        "\n",
        "    for i, img in enumerate(result):\n",
        "        x[i] = img.get()\n",
        "    \n",
        "    print('Success load %s\\nTime:%ds' % ('test', time.time() - t))\n",
        "    return ids, x"
      ],
      "execution_count": 0,
      "outputs": []
    },
    {
      "cell_type": "code",
      "metadata": {
        "id": "ALjUfQyccvnj",
        "colab_type": "code",
        "colab": {}
      },
      "source": [
        "ids, test = get_test_img(width=img_width, height=img_height)\n",
        "pred = np.argmax(model.predict(test / 255), axis=1)\n",
        "\n",
        "submission = pd.DataFrame({'id': ids, 'flower_class': pred})\n",
        "submission.to_csv('submission.csv', index = False)"
      ],
      "execution_count": 0,
      "outputs": []
    }
  ]
}